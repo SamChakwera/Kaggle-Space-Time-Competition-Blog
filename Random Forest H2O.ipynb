{
 "cells": [
  {
   "cell_type": "code",
   "execution_count": null,
   "metadata": {},
   "outputs": [],
   "source": [
    "#!pip install h2o\n",
    "#please note that h2o requires JAVA"
   ]
  },
  {
   "cell_type": "code",
   "execution_count": null,
   "metadata": {},
   "outputs": [],
   "source": [
    "import h2o\n",
    "from h2o.estimators.random_forest import H2ORandomForestEstimator\n",
    "import pandas as pd\n",
    "# Initialize H2O\n",
    "h2o.init()"
   ]
  },
  {
   "cell_type": "code",
   "execution_count": null,
   "metadata": {},
   "outputs": [],
   "source": [
    "# Load the data\n",
    "train_data = pd.read_csv(\"train.csv\")\n",
    "test_data = pd.read_csv(\"test.csv\")\n"
   ]
  },
  {
   "cell_type": "code",
   "execution_count": null,
   "metadata": {},
   "outputs": [],
   "source": [
    "# Remove unnecessary columns\n",
    "train_data = train_data.drop([\"PassengerId\", \"Name\"], axis=1)\n",
    "test_data = test_data.drop([\"PassengerId\", \"Name\"], axis=1)\n",
    "\n",
    "# Convert data to H2OFrame\n",
    "train_data = h2o.H2OFrame(train_data)\n",
    "test_data = h2o.H2OFrame(test_data)\n",
    "\n",
    "# Define the features and target\n",
    "features = train_data.columns\n",
    "target = \"Transported\"\n",
    "features.remove(target)"
   ]
  },
  {
   "cell_type": "code",
   "execution_count": null,
   "metadata": {},
   "outputs": [],
   "source": [
    "# Create and train the H2O Random Forest Classifier\n",
    "rf_classifier = H2ORandomForestEstimator(seed=42)\n",
    "rf_classifier.train(x=features, y=target, training_frame=train_data)\n",
    "\n",
    "# Validate the model\n",
    "val_data = train_data.split_frame(ratios=[0.8], seed=42)[1]\n",
    "val_pred = rf_classifier.predict(val_data)\n",
    "accuracy = (val_pred[\"predict\"] == val_data[target]).as_data_frame().mean()[0]\n",
    "print(f\"Validation accuracy: {accuracy:.2f}\")\n",
    "\n",
    "# Predict the 'Transported' column for the test data\n",
    "test_data[\"Transported\"] = rf_classifier.predict(test_data)[\"predict\"]"
   ]
  },
  {
   "cell_type": "code",
   "execution_count": null,
   "metadata": {},
   "outputs": [],
   "source": [
    "# Create the submission file\n",
    "submission = pd.read_csv(\"sample_submission.csv\")\n",
    "submission[\"Transported\"] = test_data[\"Transported\"].as_data_frame()\n",
    "submission.to_csv(\"submission.csv\", index=False)\n",
    "\n",
    "# Shutdown H2O\n",
    "h2o.cluster().shutdown()"
   ]
  }
 ],
 "metadata": {
  "language_info": {
   "name": "python"
  },
  "orig_nbformat": 4
 },
 "nbformat": 4,
 "nbformat_minor": 2
}
